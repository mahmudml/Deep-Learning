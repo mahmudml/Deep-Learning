{
  "cells": [
    {
      "cell_type": "markdown",
      "metadata": {
        "id": "view-in-github",
        "colab_type": "text"
      },
      "source": [
        "<a href=\"https://colab.research.google.com/github/mahmudml/Deep-Learning/blob/main/listing9.1.ipynb\" target=\"_parent\"><img src=\"https://colab.research.google.com/assets/colab-badge.svg\" alt=\"Open In Colab\"/></a>"
      ]
    },
    {
      "cell_type": "code",
      "execution_count": 8,
      "id": "b042b2de-07d9-457c-80c5-3ce774bc48ce",
      "metadata": {
        "colab": {
          "base_uri": "https://localhost:8080/"
        },
        "id": "b042b2de-07d9-457c-80c5-3ce774bc48ce",
        "outputId": "e35c9667-f643-41c4-8ef3-2a67bb329af5"
      },
      "outputs": [
        {
          "output_type": "stream",
          "name": "stdout",
          "text": [
            "nan\n"
          ]
        },
        {
          "output_type": "stream",
          "name": "stderr",
          "text": [
            "/usr/local/lib/python3.8/dist-packages/scikeras/wrappers.py:301: UserWarning: ``build_fn`` will be renamed to ``model`` in a future release, at which point use of ``build_fn`` will raise an Error instead.\n",
            "  warnings.warn(\n",
            "/usr/local/lib/python3.8/dist-packages/scikeras/wrappers.py:301: UserWarning: ``build_fn`` will be renamed to ``model`` in a future release, at which point use of ``build_fn`` will raise an Error instead.\n",
            "  warnings.warn(\n",
            "/usr/local/lib/python3.8/dist-packages/scikeras/wrappers.py:301: UserWarning: ``build_fn`` will be renamed to ``model`` in a future release, at which point use of ``build_fn`` will raise an Error instead.\n",
            "  warnings.warn(\n",
            "/usr/local/lib/python3.8/dist-packages/scikeras/wrappers.py:301: UserWarning: ``build_fn`` will be renamed to ``model`` in a future release, at which point use of ``build_fn`` will raise an Error instead.\n",
            "  warnings.warn(\n",
            "/usr/local/lib/python3.8/dist-packages/scikeras/wrappers.py:301: UserWarning: ``build_fn`` will be renamed to ``model`` in a future release, at which point use of ``build_fn`` will raise an Error instead.\n",
            "  warnings.warn(\n",
            "/usr/local/lib/python3.8/dist-packages/sklearn/model_selection/_validation.py:372: FitFailedWarning: \n",
            "5 fits failed out of a total of 5.\n",
            "The score on these train-test partitions for these parameters will be set to nan.\n",
            "If these failures are not expected, you can try to debug them by setting error_score='raise'.\n",
            "\n",
            "Below are more details about the failures:\n",
            "--------------------------------------------------------------------------------\n",
            "5 fits failed with the following error:\n",
            "Traceback (most recent call last):\n",
            "  File \"/usr/local/lib/python3.8/dist-packages/sklearn/model_selection/_validation.py\", line 680, in _fit_and_score\n",
            "    estimator.fit(X_train, y_train, **fit_params)\n",
            "  File \"/usr/local/lib/python3.8/dist-packages/scikeras/wrappers.py\", line 1494, in fit\n",
            "    super().fit(X=X, y=y, sample_weight=sample_weight, **kwargs)\n",
            "  File \"/usr/local/lib/python3.8/dist-packages/scikeras/wrappers.py\", line 762, in fit\n",
            "    self._fit(\n",
            "  File \"/usr/local/lib/python3.8/dist-packages/scikeras/wrappers.py\", line 918, in _fit\n",
            "    X, y = self._initialize(X, y)\n",
            "  File \"/usr/local/lib/python3.8/dist-packages/scikeras/wrappers.py\", line 855, in _initialize\n",
            "    self.model_ = self._build_keras_model()\n",
            "  File \"/usr/local/lib/python3.8/dist-packages/scikeras/wrappers.py\", line 431, in _build_keras_model\n",
            "    model = final_build_fn(**build_params)\n",
            "  File \"<ipython-input-8-2f9e16f32d11>\", line 15, in create_model\n",
            "    model.add(Dense(12, input_dim=8, init='uniform', activation='relu'))\n",
            "  File \"/usr/local/lib/python3.8/dist-packages/keras/dtensor/utils.py\", line 95, in _wrap_function\n",
            "    init_method(layer_instance, *args, **kwargs)\n",
            "  File \"/usr/local/lib/python3.8/dist-packages/keras/layers/core/dense.py\", line 113, in __init__\n",
            "    super(Dense, self).__init__(\n",
            "  File \"/usr/local/lib/python3.8/dist-packages/tensorflow/python/training/tracking/base.py\", line 587, in _method_wrapper\n",
            "    result = method(self, *args, **kwargs)\n",
            "  File \"/usr/local/lib/python3.8/dist-packages/keras/engine/base_layer.py\", line 332, in __init__\n",
            "    generic_utils.validate_kwargs(kwargs, allowed_kwargs)\n",
            "  File \"/usr/local/lib/python3.8/dist-packages/keras/utils/generic_utils.py\", line 1174, in validate_kwargs\n",
            "    raise TypeError(error_message, kwarg)\n",
            "TypeError: ('Keyword argument not understood:', 'init')\n",
            "\n",
            "  warnings.warn(some_fits_failed_message, FitFailedWarning)\n"
          ]
        }
      ],
      "source": [
        "# MLP for Pima Indians Dataset with 10-fold cross validation via sklearn\n",
        "from tensorflow.keras.models import Sequential\n",
        "from tensorflow.keras.layers import Dense\n",
        "# !pip install scikeras\n",
        "from scikeras.wrappers import KerasClassifier\n",
        "#from keras.wrappers.scikit_learn import KerasClassifier\n",
        "from sklearn.model_selection import StratifiedKFold\n",
        "from sklearn.model_selection import cross_val_score\n",
        "import numpy\n",
        "\n",
        "# Function to create model, required for KerasClassifier\n",
        "def create_model():\n",
        "  # create model\n",
        "  model =  Sequential()\n",
        "  model.add(Dense(12, input_dim=8, init='uniform', activation='relu'))\n",
        "  model.add(Dense(8, init='uniform', activation='relu'))\n",
        "  model.add(Dense(1, init='uniform', activation='sigmoid'))\n",
        "  # Compile model\n",
        "  model.compile(loss='binary_crossentropy', optimizer='Adam', metrics=['accuracy'])\n",
        "  return model\n",
        "\n",
        "# fix random seed for reproducibility\n",
        "seed = 7\n",
        "numpy.random.seed(seed)\n",
        "# load the dataset\n",
        "dataset = numpy.loadtxt('pima-indians-diabetes.csv', delimiter=',')\n",
        "# filename = 'pima-indians-diabetes.csv'\n",
        "# raw_data = open(filename, 'rb')\n",
        "# dataset = numpy.loadtxt(raw_data, delimiter=\",\")\n",
        "\n",
        "#dataset = numpy.loadtxt('file = open(r'C:\\path\\to\\your\\file.yaml')pima-indians-diabetes.csv', delimiter=',')\n",
        "# split into input (X) and output (y) variables\n",
        "X = dataset[:,0:8]\n",
        "Y = dataset[:,8]\n",
        "\n",
        "# create model\n",
        "model = KerasClassifier(build_fn=create_model, epochs=10, batch_size=10, verbose=0)\n",
        "# evaluate using 10-fold cross validation\n",
        "kfold = StratifiedKFold(n_splits=5, shuffle=True, random_state=seed)\n",
        "results = cross_val_score(model, X, Y, cv=kfold)\n",
        "print(results.mean())"
      ]
    }
  ],
  "metadata": {
    "kernelspec": {
      "display_name": "Python 3 (ipykernel)",
      "language": "python",
      "name": "python3"
    },
    "language_info": {
      "codemirror_mode": {
        "name": "ipython",
        "version": 3
      },
      "file_extension": ".py",
      "mimetype": "text/x-python",
      "name": "python",
      "nbconvert_exporter": "python",
      "pygments_lexer": "ipython3",
      "version": "3.9.15"
    },
    "colab": {
      "provenance": [],
      "include_colab_link": true
    }
  },
  "nbformat": 4,
  "nbformat_minor": 5
}