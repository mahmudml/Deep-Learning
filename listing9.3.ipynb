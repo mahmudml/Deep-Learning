{
  "cells": [
    {
      "cell_type": "markdown",
      "metadata": {
        "id": "view-in-github",
        "colab_type": "text"
      },
      "source": [
        "<a href=\"https://colab.research.google.com/github/mahmudml/Deep-Learning/blob/main/listing9.3.ipynb\" target=\"_parent\"><img src=\"https://colab.research.google.com/assets/colab-badge.svg\" alt=\"Open In Colab\"/></a>"
      ]
    },
    {
      "cell_type": "code",
      "execution_count": null,
      "metadata": {
        "colab": {
          "background_save": true,
          "base_uri": "https://localhost:8080/"
        },
        "id": "e2c8d5b1-6377-4865-b22d-307966cdf767",
        "outputId": "265449d1-ad0b-4f97-dced-fa292b8d02cb"
      },
      "outputs": [
        {
          "name": "stdout",
          "output_type": "stream",
          "text": [
            "dict_keys(['model', 'build_fn', 'warm_start', 'random_state', 'optimizer', 'loss', 'metrics', 'batch_size', 'validation_batch_size', 'verbose', 'callbacks', 'validation_split', 'shuffle', 'run_eagerly', 'epochs', 'class_weight'])\n",
            "Best: 0.761769 using {'batch_size': 5, 'epochs': 100, 'model__init': 'uniform', 'optimizer': 'adam'}\n",
            "0.697861 (0.021210) with: {'batch_size': 5, 'epochs': 50, 'model__init': 'glorot_uniform', 'optimizer': 'rmsprop'}\n",
            "0.711001 (0.028625) with: {'batch_size': 5, 'epochs': 50, 'model__init': 'glorot_uniform', 'optimizer': 'adam'}\n",
            "0.742238 (0.018891) with: {'batch_size': 5, 'epochs': 50, 'model__init': 'normal', 'optimizer': 'rmsprop'}\n",
            "0.692743 (0.041198) with: {'batch_size': 5, 'epochs': 50, 'model__init': 'normal', 'optimizer': 'adam'}\n",
            "0.742238 (0.026988) with: {'batch_size': 5, 'epochs': 50, 'model__init': 'uniform', 'optimizer': 'rmsprop'}\n",
            "0.726585 (0.014375) with: {'batch_size': 5, 'epochs': 50, 'model__init': 'uniform', 'optimizer': 'adam'}\n",
            "0.717426 (0.015018) with: {'batch_size': 5, 'epochs': 100, 'model__init': 'glorot_uniform', 'optimizer': 'rmsprop'}\n",
            "0.742238 (0.025034) with: {'batch_size': 5, 'epochs': 100, 'model__init': 'glorot_uniform', 'optimizer': 'adam'}\n",
            "0.753892 (0.011484) with: {'batch_size': 5, 'epochs': 100, 'model__init': 'normal', 'optimizer': 'rmsprop'}\n",
            "0.739555 (0.037508) with: {'batch_size': 5, 'epochs': 100, 'model__init': 'normal', 'optimizer': 'adam'}\n",
            "0.727960 (0.039373) with: {'batch_size': 5, 'epochs': 100, 'model__init': 'uniform', 'optimizer': 'rmsprop'}\n",
            "0.761769 (0.024053) with: {'batch_size': 5, 'epochs': 100, 'model__init': 'uniform', 'optimizer': 'adam'}\n",
            "0.717554 (0.037097) with: {'batch_size': 5, 'epochs': 150, 'model__init': 'glorot_uniform', 'optimizer': 'rmsprop'}\n",
            "0.734403 (0.028451) with: {'batch_size': 5, 'epochs': 150, 'model__init': 'glorot_uniform', 'optimizer': 'adam'}\n",
            "0.759180 (0.027945) with: {'batch_size': 5, 'epochs': 150, 'model__init': 'normal', 'optimizer': 'rmsprop'}\n",
            "0.759121 (0.020068) with: {'batch_size': 5, 'epochs': 150, 'model__init': 'normal', 'optimizer': 'adam'}\n",
            "0.759112 (0.016957) with: {'batch_size': 5, 'epochs': 150, 'model__init': 'uniform', 'optimizer': 'rmsprop'}\n",
            "0.733062 (0.053239) with: {'batch_size': 5, 'epochs': 150, 'model__init': 'uniform', 'optimizer': 'adam'}\n",
            "0.652203 (0.069775) with: {'batch_size': 10, 'epochs': 50, 'model__init': 'glorot_uniform', 'optimizer': 'rmsprop'}\n",
            "0.688702 (0.044961) with: {'batch_size': 10, 'epochs': 50, 'model__init': 'glorot_uniform', 'optimizer': 'adam'}\n",
            "0.712282 (0.032374) with: {'batch_size': 10, 'epochs': 50, 'model__init': 'normal', 'optimizer': 'rmsprop'}\n",
            "0.709626 (0.017471) with: {'batch_size': 10, 'epochs': 50, 'model__init': 'normal', 'optimizer': 'adam'}\n",
            "0.710975 (0.014419) with: {'batch_size': 10, 'epochs': 50, 'model__init': 'uniform', 'optimizer': 'rmsprop'}\n",
            "0.700569 (0.040523) with: {'batch_size': 10, 'epochs': 50, 'model__init': 'uniform', 'optimizer': 'adam'}\n",
            "0.680961 (0.034063) with: {'batch_size': 10, 'epochs': 100, 'model__init': 'glorot_uniform', 'optimizer': 'rmsprop'}\n",
            "0.703183 (0.025883) with: {'batch_size': 10, 'epochs': 100, 'model__init': 'glorot_uniform', 'optimizer': 'adam'}\n",
            "0.730507 (0.015050) with: {'batch_size': 10, 'epochs': 100, 'model__init': 'normal', 'optimizer': 'rmsprop'}\n",
            "0.730490 (0.031341) with: {'batch_size': 10, 'epochs': 100, 'model__init': 'normal', 'optimizer': 'adam'}\n",
            "0.733053 (0.017233) with: {'batch_size': 10, 'epochs': 100, 'model__init': 'uniform', 'optimizer': 'rmsprop'}\n",
            "0.727892 (0.023455) with: {'batch_size': 10, 'epochs': 100, 'model__init': 'uniform', 'optimizer': 'adam'}\n",
            "0.701842 (0.038883) with: {'batch_size': 10, 'epochs': 150, 'model__init': 'glorot_uniform', 'optimizer': 'rmsprop'}\n",
            "0.684755 (0.081956) with: {'batch_size': 10, 'epochs': 150, 'model__init': 'glorot_uniform', 'optimizer': 'adam'}\n",
            "0.752653 (0.027755) with: {'batch_size': 10, 'epochs': 150, 'model__init': 'normal', 'optimizer': 'rmsprop'}\n",
            "0.750055 (0.034636) with: {'batch_size': 10, 'epochs': 150, 'model__init': 'normal', 'optimizer': 'adam'}\n",
            "0.756506 (0.016777) with: {'batch_size': 10, 'epochs': 150, 'model__init': 'uniform', 'optimizer': 'rmsprop'}\n",
            "0.734471 (0.051006) with: {'batch_size': 10, 'epochs': 150, 'model__init': 'uniform', 'optimizer': 'adam'}\n",
            "0.679798 (0.037579) with: {'batch_size': 20, 'epochs': 50, 'model__init': 'glorot_uniform', 'optimizer': 'rmsprop'}\n",
            "0.681012 (0.019354) with: {'batch_size': 20, 'epochs': 50, 'model__init': 'glorot_uniform', 'optimizer': 'adam'}\n",
            "0.713581 (0.023215) with: {'batch_size': 20, 'epochs': 50, 'model__init': 'normal', 'optimizer': 'rmsprop'}\n",
            "0.703141 (0.026427) with: {'batch_size': 20, 'epochs': 50, 'model__init': 'normal', 'optimizer': 'adam'}\n",
            "0.710967 (0.024529) with: {'batch_size': 20, 'epochs': 50, 'model__init': 'uniform', 'optimizer': 'rmsprop'}\n",
            "0.678380 (0.020488) with: {'batch_size': 20, 'epochs': 50, 'model__init': 'uniform', 'optimizer': 'adam'}\n",
            "0.695331 (0.034771) with: {'batch_size': 20, 'epochs': 100, 'model__init': 'glorot_uniform', 'optimizer': 'rmsprop'}\n",
            "0.705764 (0.019875) with: {'batch_size': 20, 'epochs': 100, 'model__init': 'glorot_uniform', 'optimizer': 'adam'}\n",
            "0.738299 (0.015336) with: {'batch_size': 20, 'epochs': 100, 'model__init': 'normal', 'optimizer': 'rmsprop'}\n",
            "0.740905 (0.017359) with: {'batch_size': 20, 'epochs': 100, 'model__init': 'normal', 'optimizer': 'adam'}\n",
            "0.730532 (0.028714) with: {'batch_size': 20, 'epochs': 100, 'model__init': 'uniform', 'optimizer': 'rmsprop'}\n",
            "0.726568 (0.017808) with: {'batch_size': 20, 'epochs': 100, 'model__init': 'uniform', 'optimizer': 'adam'}\n",
            "0.717511 (0.027766) with: {'batch_size': 20, 'epochs': 150, 'model__init': 'glorot_uniform', 'optimizer': 'rmsprop'}\n",
            "0.722664 (0.023365) with: {'batch_size': 20, 'epochs': 150, 'model__init': 'glorot_uniform', 'optimizer': 'adam'}\n",
            "0.740888 (0.022325) with: {'batch_size': 20, 'epochs': 150, 'model__init': 'normal', 'optimizer': 'rmsprop'}\n",
            "0.751362 (0.028461) with: {'batch_size': 20, 'epochs': 150, 'model__init': 'normal', 'optimizer': 'adam'}\n",
            "0.743545 (0.020975) with: {'batch_size': 20, 'epochs': 150, 'model__init': 'uniform', 'optimizer': 'rmsprop'}\n",
            "0.739581 (0.038236) with: {'batch_size': 20, 'epochs': 150, 'model__init': 'uniform', 'optimizer': 'adam'}\n"
          ]
        }
      ],
      "source": [
        "# MLP for Pima Indians Dataset with grid search via sklearn\n",
        "from tensorflow.keras.models import Sequential\n",
        "from tensorflow.keras.layers import Dense\n",
        "#from keras.wrappers.scikit_learn import KerasClassifier\n",
        "from scikeras.wrappers import KerasClassifier\n",
        "from sklearn.model_selection import GridSearchCV\n",
        "import numpy as np\n",
        "\n",
        "# Function to create model, required for KerasClassifier\n",
        "def create_model(optimizer='rmsprop', init='glorot_uniform'):\n",
        "    # create model\n",
        "    model = Sequential()\n",
        "    model.add(Dense(12, input_dim=8, kernel_initializer=init, activation='relu'))\n",
        "    model.add(Dense(8, kernel_initializer=init, activation='relu'))\n",
        "    model.add(Dense(1, kernel_initializer=init, activation='sigmoid'))\n",
        "    # Compile model\n",
        "    model.compile(loss='binary_crossentropy', optimizer=optimizer, metrics=['accuracy'])\n",
        "    return model\n",
        "\n",
        "# fix random seed for reproducibility\n",
        "seed = 7\n",
        "np.random.seed(seed)\n",
        "# load pima indians dataset\n",
        "dataset = np.loadtxt(\"pima-indians-diabetes.csv\", delimiter=\",\")\n",
        "# split into input (X) and output (Y) variables\n",
        "X = dataset[:,0:8]\n",
        "Y = dataset[:,8]\n",
        "# create model\n",
        "model = KerasClassifier(model=create_model, verbose=0)\n",
        "print(model.get_params().keys())\n",
        "# grid search epochs, batch size and optimizer\n",
        "optimizers = ['rmsprop', 'adam']\n",
        "init = ['glorot_uniform', 'normal', 'uniform']\n",
        "epochs = [50, 100, 150]\n",
        "batches = [5, 10, 20]\n",
        "param_grid = dict(optimizer=optimizers, epochs=epochs, batch_size=batches, model__init=init)\n",
        "grid = GridSearchCV(estimator=model, param_grid=param_grid)\n",
        "grid_result = grid.fit(X, Y)\n",
        "# summarize results\n",
        "print(\"Best: %f using %s\" % (grid_result.best_score_, grid_result.best_params_))\n",
        "means = grid_result.cv_results_['mean_test_score']\n",
        "stds = grid_result.cv_results_['std_test_score']\n",
        "params = grid_result.cv_results_['params']\n",
        "for mean, stdev, param in zip(means, stds, params):\n",
        "    print(\"%f (%f) with: %r\" % (mean, stdev, param))"
      ],
      "id": "e2c8d5b1-6377-4865-b22d-307966cdf767"
    },
    {
      "cell_type": "code",
      "execution_count": null,
      "metadata": {
        "id": "4b4384d9-ed98-4650-9ed9-ccbcc3bdfe42"
      },
      "outputs": [],
      "source": [],
      "id": "4b4384d9-ed98-4650-9ed9-ccbcc3bdfe42"
    }
  ],
  "metadata": {
    "colab": {
      "provenance": [],
      "toc_visible": true,
      "include_colab_link": true
    },
    "kernelspec": {
      "display_name": "Python 3 (ipykernel)",
      "language": "python",
      "name": "python3"
    },
    "language_info": {
      "codemirror_mode": {
        "name": "ipython",
        "version": 3
      },
      "file_extension": ".py",
      "mimetype": "text/x-python",
      "name": "python",
      "nbconvert_exporter": "python",
      "pygments_lexer": "ipython3",
      "version": "3.9.15"
    }
  },
  "nbformat": 4,
  "nbformat_minor": 5
}